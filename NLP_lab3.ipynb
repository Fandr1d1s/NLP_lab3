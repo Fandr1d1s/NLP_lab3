{
 "cells": [
  {
   "cell_type": "code",
   "execution_count": 1,
   "id": "2ed62215",
   "metadata": {},
   "outputs": [],
   "source": [
    "!pip install -q deeppavlov"
   ]
  },
  {
   "cell_type": "code",
   "execution_count": 2,
   "id": "acad268c",
   "metadata": {},
   "outputs": [
    {
     "name": "stdout",
     "output_type": "stream",
     "text": [
      "Requirement already satisfied: pytorch-crf==0.7.* in c:\\users\\adole\\anaconda3\\lib\\site-packages (0.7.2)\n",
      "Requirement already satisfied: transformers<4.21.0,>=4.13.0 in c:\\users\\adole\\anaconda3\\lib\\site-packages (4.20.1)\n",
      "Requirement already satisfied: tqdm>=4.27 in c:\\users\\adole\\anaconda3\\lib\\site-packages (from transformers<4.21.0,>=4.13.0) (4.64.1)\n",
      "Requirement already satisfied: requests in c:\\users\\adole\\anaconda3\\lib\\site-packages (from transformers<4.21.0,>=4.13.0) (2.28.1)\n",
      "Requirement already satisfied: packaging>=20.0 in c:\\users\\adole\\anaconda3\\lib\\site-packages (from transformers<4.21.0,>=4.13.0) (21.3)\n",
      "Requirement already satisfied: pyyaml>=5.1 in c:\\users\\adole\\anaconda3\\lib\\site-packages (from transformers<4.21.0,>=4.13.0) (6.0)\n",
      "Requirement already satisfied: regex!=2019.12.17 in c:\\users\\adole\\anaconda3\\lib\\site-packages (from transformers<4.21.0,>=4.13.0) (2022.7.9)\n",
      "Requirement already satisfied: huggingface-hub<1.0,>=0.1.0 in c:\\users\\adole\\anaconda3\\lib\\site-packages (from transformers<4.21.0,>=4.13.0) (0.11.1)\n",
      "Requirement already satisfied: numpy>=1.17 in c:\\users\\adole\\anaconda3\\lib\\site-packages (from transformers<4.21.0,>=4.13.0) (1.21.5)\n",
      "Requirement already satisfied: filelock in c:\\users\\adole\\anaconda3\\lib\\site-packages (from transformers<4.21.0,>=4.13.0) (3.6.0)\n",
      "Requirement already satisfied: tokenizers!=0.11.3,<0.13,>=0.11.1 in c:\\users\\adole\\anaconda3\\lib\\site-packages (from transformers<4.21.0,>=4.13.0) (0.12.1)\n",
      "Requirement already satisfied: typing-extensions>=3.7.4.3 in c:\\users\\adole\\anaconda3\\lib\\site-packages (from huggingface-hub<1.0,>=0.1.0->transformers<4.21.0,>=4.13.0) (4.3.0)\n",
      "Requirement already satisfied: pyparsing!=3.0.5,>=2.0.2 in c:\\users\\adole\\anaconda3\\lib\\site-packages (from packaging>=20.0->transformers<4.21.0,>=4.13.0) (3.0.9)\n",
      "Requirement already satisfied: colorama in c:\\users\\adole\\anaconda3\\lib\\site-packages (from tqdm>=4.27->transformers<4.21.0,>=4.13.0) (0.4.5)\n",
      "Requirement already satisfied: charset-normalizer<3,>=2 in c:\\users\\adole\\anaconda3\\lib\\site-packages (from requests->transformers<4.21.0,>=4.13.0) (2.0.4)\n",
      "Requirement already satisfied: idna<4,>=2.5 in c:\\users\\adole\\anaconda3\\lib\\site-packages (from requests->transformers<4.21.0,>=4.13.0) (3.3)\n",
      "Requirement already satisfied: certifi>=2017.4.17 in c:\\users\\adole\\anaconda3\\lib\\site-packages (from requests->transformers<4.21.0,>=4.13.0) (2022.12.7)\n",
      "Requirement already satisfied: urllib3<1.27,>=1.21.1 in c:\\users\\adole\\anaconda3\\lib\\site-packages (from requests->transformers<4.21.0,>=4.13.0) (1.26.11)\n",
      "Requirement already satisfied: torch<1.13.0,>=1.6.0 in c:\\users\\adole\\anaconda3\\lib\\site-packages (1.12.1)\n",
      "Requirement already satisfied: typing-extensions in c:\\users\\adole\\anaconda3\\lib\\site-packages (from torch<1.13.0,>=1.6.0) (4.3.0)\n"
     ]
    }
   ],
   "source": [
    "!python -m deeppavlov install ner_ontonotes_bert"
   ]
  },
  {
   "cell_type": "code",
   "execution_count": 3,
   "id": "23aabc38",
   "metadata": {},
   "outputs": [
    {
     "name": "stderr",
     "output_type": "stream",
     "text": [
      "2022-12-09 17:31:04.150 INFO in 'deeppavlov.core.data.utils'['utils'] at line 95: Downloading from http://files.deeppavlov.ai/v1/ner/ner_ontonotes_bert_torch_crf.tar.gz to C:\\Users\\adole\\.deeppavlov\\models\\ner_ontonotes_bert_torch_crf.tar.gz\n",
      "2022-12-09 17:31:04.654 WARNING in 'deeppavlov.core.data.utils'['utils'] at line 114: Found a partial download C:\\Users\\adole\\.deeppavlov\\models\\ner_ontonotes_bert_torch_crf.tar.gz.part\n",
      " 36%|██████████████████████████████▌                                                       | 404M/1.13G [00:00<?, ?B/s]2022-12-09 17:31:04.669 WARNING in 'deeppavlov.core.data.utils'['utils'] at line 118: Download stopped abruptly, trying to resume from 403505152 to reach 1134728948\n",
      "100%|█████████████████████████████████████████████████████████████████████████████| 1.13G/1.13G [01:00<00:00, 12.0MB/s]\n",
      "2022-12-09 17:32:05.452 INFO in 'deeppavlov.core.data.utils'['utils'] at line 276: Extracting C:\\Users\\adole\\.deeppavlov\\models\\ner_ontonotes_bert_torch_crf.tar.gz archive into C:\\Users\\adole\\.deeppavlov\\models\\ner_ontonotes_bert_torch_crf\n",
      "Some weights of the model checkpoint at bert-base-cased were not used when initializing BertForTokenClassification: ['cls.predictions.transform.dense.weight', 'cls.seq_relationship.weight', 'cls.predictions.transform.LayerNorm.bias', 'cls.seq_relationship.bias', 'cls.predictions.transform.LayerNorm.weight', 'cls.predictions.transform.dense.bias', 'cls.predictions.bias', 'cls.predictions.decoder.weight']\n",
      "- This IS expected if you are initializing BertForTokenClassification from the checkpoint of a model trained on another task or with another architecture (e.g. initializing a BertForSequenceClassification model from a BertForPreTraining model).\n",
      "- This IS NOT expected if you are initializing BertForTokenClassification from the checkpoint of a model that you expect to be exactly identical (initializing a BertForSequenceClassification model from a BertForSequenceClassification model).\n",
      "Some weights of BertForTokenClassification were not initialized from the model checkpoint at bert-base-cased and are newly initialized: ['classifier.bias', 'classifier.weight']\n",
      "You should probably TRAIN this model on a down-stream task to be able to use it for predictions and inference.\n"
     ]
    }
   ],
   "source": [
    "from deeppavlov import build_model\n",
    "\n",
    "ner_model = build_model('ner_ontonotes_bert', download=True)"
   ]
  },
  {
   "cell_type": "code",
   "execution_count": 4,
   "id": "13c7c50b",
   "metadata": {},
   "outputs": [
    {
     "name": "stderr",
     "output_type": "stream",
     "text": [
      "C:\\Users\\adole\\anaconda3\\lib\\site-packages\\torchcrf\\__init__.py:305: UserWarning: where received a uint8 condition tensor. This behavior is deprecated and will be removed in a future version of PyTorch. Use a boolean condition instead. (Triggered internally at  C:\\actions-runner\\_work\\pytorch\\pytorch\\builder\\windows\\pytorch\\aten\\src\\ATen\\native\\TensorCompare.cpp:402.)\n",
      "  score = torch.where(mask[i].unsqueeze(1), next_score, score)\n"
     ]
    },
    {
     "data": {
      "text/plain": [
       "[[['Bob', 'Ross', 'lived', 'in', 'Florida'],\n",
       "  ['Elon', 'Musk', 'founded', 'Tesla']],\n",
       " [['B-PERSON', 'I-PERSON', 'O', 'O', 'B-GPE'],\n",
       "  ['B-PERSON', 'I-PERSON', 'O', 'B-ORG']]]"
      ]
     },
     "execution_count": 4,
     "metadata": {},
     "output_type": "execute_result"
    }
   ],
   "source": [
    "ner_model(['Bob Ross lived in Florida', 'Elon Musk founded Tesla'])"
   ]
  },
  {
   "cell_type": "code",
   "execution_count": 5,
   "id": "db3de8ae",
   "metadata": {},
   "outputs": [
    {
     "name": "stderr",
     "output_type": "stream",
     "text": [
      "2022-12-09 17:34:41.875 INFO in 'deeppavlov.download'['download'] at line 138: Skipped http://files.deeppavlov.ai/v1/ner/ner_ontonotes_bert_torch_crf.tar.gz download because of matching hashes\n",
      "2022-12-09 17:34:41.889 INFO in 'deeppavlov.core.data.utils'['utils'] at line 95: Downloading from http://files.deeppavlov.ai/deeppavlov_data/ontonotes_ner.tar.gz to C:\\Users\\adole\\.deeppavlov\\downloads\\ontonotes\\ontonotes_ner.tar.gz\n",
      "100%|█████████████████████████████████████████████████████████████████████████████| 3.45M/3.45M [00:00<00:00, 5.90MB/s]\n",
      "2022-12-09 17:34:43.44 INFO in 'deeppavlov.core.data.utils'['utils'] at line 276: Extracting C:\\Users\\adole\\.deeppavlov\\downloads\\ontonotes\\ontonotes_ner.tar.gz archive into C:\\Users\\adole\\.deeppavlov\\downloads\\ontonotes\n",
      "2022-12-09 17:34:45.310 WARNING in 'deeppavlov.core.trainers.fit_trainer'['fit_trainer'] at line 66: TorchTrainer got additional init parameters ['pytest_max_batches', 'pytest_batch_size'] that will be ignored:\n",
      "Some weights of the model checkpoint at bert-base-cased were not used when initializing BertForTokenClassification: ['cls.predictions.transform.dense.weight', 'cls.seq_relationship.weight', 'cls.predictions.transform.LayerNorm.bias', 'cls.seq_relationship.bias', 'cls.predictions.transform.LayerNorm.weight', 'cls.predictions.transform.dense.bias', 'cls.predictions.bias', 'cls.predictions.decoder.weight']\n",
      "- This IS expected if you are initializing BertForTokenClassification from the checkpoint of a model trained on another task or with another architecture (e.g. initializing a BertForSequenceClassification model from a BertForPreTraining model).\n",
      "- This IS NOT expected if you are initializing BertForTokenClassification from the checkpoint of a model that you expect to be exactly identical (initializing a BertForSequenceClassification model from a BertForSequenceClassification model).\n",
      "Some weights of BertForTokenClassification were not initialized from the model checkpoint at bert-base-cased and are newly initialized: ['classifier.bias', 'classifier.weight']\n",
      "You should probably TRAIN this model on a down-stream task to be able to use it for predictions and inference.\n",
      "161it [15:29,  5.77s/it]\n"
     ]
    },
    {
     "name": "stdout",
     "output_type": "stream",
     "text": [
      "{\"valid\": {\"eval_examples_count\": 9603, \"metrics\": {\"ner_f1\": 88.5826, \"ner_token_f1\": 91.3451}, \"time_spent\": \"0:15:35\"}}\n"
     ]
    },
    {
     "name": "stderr",
     "output_type": "stream",
     "text": [
      "158it [15:14,  5.79s/it]\n"
     ]
    },
    {
     "name": "stdout",
     "output_type": "stream",
     "text": [
      "{\"test\": {\"eval_examples_count\": 9479, \"metrics\": {\"ner_f1\": 89.2243, \"ner_token_f1\": 92.6828}, \"time_spent\": \"0:15:20\"}}\n"
     ]
    }
   ],
   "source": [
    "from deeppavlov import evaluate_model\n",
    "\n",
    "model = evaluate_model('ner_ontonotes_bert', download=True)"
   ]
  },
  {
   "cell_type": "code",
   "execution_count": 6,
   "id": "d7f1a551",
   "metadata": {},
   "outputs": [
    {
     "name": "stdout",
     "output_type": "stream",
     "text": [
      "Requirement already satisfied: torch<1.13.0,>=1.6.0 in c:\\users\\adole\\anaconda3\\lib\\site-packages (1.12.1)\n",
      "Requirement already satisfied: typing-extensions in c:\\users\\adole\\anaconda3\\lib\\site-packages (from torch<1.13.0,>=1.6.0) (4.3.0)\n",
      "Requirement already satisfied: pytorch-crf==0.7.* in c:\\users\\adole\\anaconda3\\lib\\site-packages (0.7.2)\n",
      "Requirement already satisfied: transformers<4.21.0,>=4.13.0 in c:\\users\\adole\\anaconda3\\lib\\site-packages (4.20.1)\n",
      "Requirement already satisfied: requests in c:\\users\\adole\\anaconda3\\lib\\site-packages (from transformers<4.21.0,>=4.13.0) (2.28.1)\n",
      "Requirement already satisfied: tqdm>=4.27 in c:\\users\\adole\\anaconda3\\lib\\site-packages (from transformers<4.21.0,>=4.13.0) (4.64.1)\n",
      "Requirement already satisfied: filelock in c:\\users\\adole\\anaconda3\\lib\\site-packages (from transformers<4.21.0,>=4.13.0) (3.6.0)\n",
      "Requirement already satisfied: regex!=2019.12.17 in c:\\users\\adole\\anaconda3\\lib\\site-packages (from transformers<4.21.0,>=4.13.0) (2022.7.9)\n",
      "Requirement already satisfied: pyyaml>=5.1 in c:\\users\\adole\\anaconda3\\lib\\site-packages (from transformers<4.21.0,>=4.13.0) (6.0)\n",
      "Requirement already satisfied: numpy>=1.17 in c:\\users\\adole\\anaconda3\\lib\\site-packages (from transformers<4.21.0,>=4.13.0) (1.21.5)\n",
      "Requirement already satisfied: packaging>=20.0 in c:\\users\\adole\\anaconda3\\lib\\site-packages (from transformers<4.21.0,>=4.13.0) (21.3)\n",
      "Requirement already satisfied: tokenizers!=0.11.3,<0.13,>=0.11.1 in c:\\users\\adole\\anaconda3\\lib\\site-packages (from transformers<4.21.0,>=4.13.0) (0.12.1)\n",
      "Requirement already satisfied: huggingface-hub<1.0,>=0.1.0 in c:\\users\\adole\\anaconda3\\lib\\site-packages (from transformers<4.21.0,>=4.13.0) (0.11.1)\n",
      "Requirement already satisfied: typing-extensions>=3.7.4.3 in c:\\users\\adole\\anaconda3\\lib\\site-packages (from huggingface-hub<1.0,>=0.1.0->transformers<4.21.0,>=4.13.0) (4.3.0)\n",
      "Requirement already satisfied: pyparsing!=3.0.5,>=2.0.2 in c:\\users\\adole\\anaconda3\\lib\\site-packages (from packaging>=20.0->transformers<4.21.0,>=4.13.0) (3.0.9)\n",
      "Requirement already satisfied: colorama in c:\\users\\adole\\anaconda3\\lib\\site-packages (from tqdm>=4.27->transformers<4.21.0,>=4.13.0) (0.4.5)\n",
      "Requirement already satisfied: urllib3<1.27,>=1.21.1 in c:\\users\\adole\\anaconda3\\lib\\site-packages (from requests->transformers<4.21.0,>=4.13.0) (1.26.11)\n",
      "Requirement already satisfied: idna<4,>=2.5 in c:\\users\\adole\\anaconda3\\lib\\site-packages (from requests->transformers<4.21.0,>=4.13.0) (3.3)\n",
      "Requirement already satisfied: charset-normalizer<3,>=2 in c:\\users\\adole\\anaconda3\\lib\\site-packages (from requests->transformers<4.21.0,>=4.13.0) (2.0.4)\n",
      "Requirement already satisfied: certifi>=2017.4.17 in c:\\users\\adole\\anaconda3\\lib\\site-packages (from requests->transformers<4.21.0,>=4.13.0) (2022.12.7)\n"
     ]
    }
   ],
   "source": [
    "!python -m deeppavlov install entity_detection_en"
   ]
  },
  {
   "cell_type": "code",
   "execution_count": 8,
   "id": "610db6f1",
   "metadata": {},
   "outputs": [
    {
     "name": "stderr",
     "output_type": "stream",
     "text": [
      "2022-12-09 18:09:16.365 INFO in 'deeppavlov.download'['download'] at line 138: Skipped http://files.deeppavlov.ai/v1/ner/ner_ontonotes_bert_torch_crf.tar.gz download because of matching hashes\n",
      "Some weights of the model checkpoint at bert-base-cased were not used when initializing BertForTokenClassification: ['cls.predictions.transform.dense.weight', 'cls.seq_relationship.weight', 'cls.predictions.transform.LayerNorm.bias', 'cls.seq_relationship.bias', 'cls.predictions.transform.LayerNorm.weight', 'cls.predictions.transform.dense.bias', 'cls.predictions.bias', 'cls.predictions.decoder.weight']\n",
      "- This IS expected if you are initializing BertForTokenClassification from the checkpoint of a model trained on another task or with another architecture (e.g. initializing a BertForSequenceClassification model from a BertForPreTraining model).\n",
      "- This IS NOT expected if you are initializing BertForTokenClassification from the checkpoint of a model that you expect to be exactly identical (initializing a BertForSequenceClassification model from a BertForSequenceClassification model).\n",
      "Some weights of BertForTokenClassification were not initialized from the model checkpoint at bert-base-cased and are newly initialized: ['classifier.bias', 'classifier.weight']\n",
      "You should probably TRAIN this model on a down-stream task to be able to use it for predictions and inference.\n"
     ]
    },
    {
     "data": {
      "text/plain": [
       "[[['forrest gump', 'robert zemeckis', 'eric roth']],\n",
       " [[(0, 12), (48, 63), (79, 88)]],\n",
       " [[[0, 1], [10, 11], [15, 16]]],\n",
       " [['WORK_OF_ART', 'PERSON', 'PERSON']],\n",
       " [[(0, 89)]],\n",
       " [['Forrest Gump is a comedy-drama film directed by Robert Zemeckis and written by Eric Roth.']],\n",
       " [[0.8798, 0.9986, 0.9985]]]"
      ]
     },
     "execution_count": 8,
     "metadata": {},
     "output_type": "execute_result"
    }
   ],
   "source": [
    "from deeppavlov import configs, build_model\n",
    "\n",
    "ed = build_model(configs.entity_extraction.entity_detection_en, download=True)\n",
    "ed(['Forrest Gump is a comedy-drama film directed by Robert Zemeckis and written by Eric Roth.'])"
   ]
  },
  {
   "cell_type": "code",
   "execution_count": 13,
   "id": "0d953b49",
   "metadata": {},
   "outputs": [
    {
     "data": {
      "text/plain": [
       "[[['Bob', 'Ross', 'lived', 'in', 'Florida'],\n",
       "  ['Elon', 'Musk', 'founded', 'Tesla']],\n",
       " [['B-PERSON', 'I-PERSON', 'O', 'O', 'B-GPE'],\n",
       "  ['B-PERSON', 'I-PERSON', 'O', 'B-ORG']]]"
      ]
     },
     "execution_count": 13,
     "metadata": {},
     "output_type": "execute_result"
    }
   ],
   "source": [
    "ner_model(['Bob Ross lived in Florida', 'Elon Musk founded Tesla'])"
   ]
  },
  {
   "cell_type": "code",
   "execution_count": 14,
   "id": "4812b548",
   "metadata": {},
   "outputs": [
    {
     "name": "stderr",
     "output_type": "stream",
     "text": [
      "2022-12-09 18:15:47.14 INFO in 'deeppavlov.download'['download'] at line 138: Skipped http://files.deeppavlov.ai/v1/ner/ner_ontonotes_bert_torch_crf.tar.gz download because of matching hashes\n",
      "Some weights of the model checkpoint at bert-base-cased were not used when initializing BertForTokenClassification: ['cls.predictions.transform.dense.weight', 'cls.seq_relationship.weight', 'cls.predictions.transform.LayerNorm.bias', 'cls.seq_relationship.bias', 'cls.predictions.transform.LayerNorm.weight', 'cls.predictions.transform.dense.bias', 'cls.predictions.bias', 'cls.predictions.decoder.weight']\n",
      "- This IS expected if you are initializing BertForTokenClassification from the checkpoint of a model trained on another task or with another architecture (e.g. initializing a BertForSequenceClassification model from a BertForPreTraining model).\n",
      "- This IS NOT expected if you are initializing BertForTokenClassification from the checkpoint of a model that you expect to be exactly identical (initializing a BertForSequenceClassification model from a BertForSequenceClassification model).\n",
      "Some weights of BertForTokenClassification were not initialized from the model checkpoint at bert-base-cased and are newly initialized: ['classifier.bias', 'classifier.weight']\n",
      "You should probably TRAIN this model on a down-stream task to be able to use it for predictions and inference.\n"
     ]
    },
    {
     "data": {
      "text/plain": [
       "[[[], []],\n",
       " [[], []],\n",
       " [[], []],\n",
       " [[], []],\n",
       " [[(0, 25)], [(0, 23)]],\n",
       " [['Bob Ross lived in Florida'], ['Elon Musk founded Tesla']],\n",
       " [[], []]]"
      ]
     },
     "execution_count": 14,
     "metadata": {},
     "output_type": "execute_result"
    }
   ],
   "source": [
    "from deeppavlov import configs, build_model\n",
    "\n",
    "ed = build_model(configs.entity_extraction.entity_detection_en, download=True)\n",
    "ed(['Bob Ross lived in Florida', 'Elon Musk founded Tesla'])"
   ]
  },
  {
   "cell_type": "code",
   "execution_count": 15,
   "id": "401091fa",
   "metadata": {},
   "outputs": [
    {
     "data": {
      "text/plain": [
       "['Bob Ross lived in Florida, Elon Musk founded Tesla']"
      ]
     },
     "execution_count": 15,
     "metadata": {},
     "output_type": "execute_result"
    }
   ],
   "source": [
    "(['Bob Ross lived in Florida, Elon Musk founded Tesla'])"
   ]
  },
  {
   "cell_type": "code",
   "execution_count": 16,
   "id": "f300b006",
   "metadata": {
    "scrolled": false
   },
   "outputs": [
    {
     "name": "stderr",
     "output_type": "stream",
     "text": [
      "2022-12-09 18:19:39.309 INFO in 'deeppavlov.download'['download'] at line 138: Skipped http://files.deeppavlov.ai/v1/ner/ner_ontonotes_bert_torch_crf.tar.gz download because of matching hashes\n",
      "Some weights of the model checkpoint at bert-base-cased were not used when initializing BertForTokenClassification: ['cls.predictions.transform.dense.weight', 'cls.seq_relationship.weight', 'cls.predictions.transform.LayerNorm.bias', 'cls.seq_relationship.bias', 'cls.predictions.transform.LayerNorm.weight', 'cls.predictions.transform.dense.bias', 'cls.predictions.bias', 'cls.predictions.decoder.weight']\n",
      "- This IS expected if you are initializing BertForTokenClassification from the checkpoint of a model trained on another task or with another architecture (e.g. initializing a BertForSequenceClassification model from a BertForPreTraining model).\n",
      "- This IS NOT expected if you are initializing BertForTokenClassification from the checkpoint of a model that you expect to be exactly identical (initializing a BertForSequenceClassification model from a BertForSequenceClassification model).\n",
      "Some weights of BertForTokenClassification were not initialized from the model checkpoint at bert-base-cased and are newly initialized: ['classifier.bias', 'classifier.weight']\n",
      "You should probably TRAIN this model on a down-stream task to be able to use it for predictions and inference.\n"
     ]
    },
    {
     "data": {
      "text/plain": [
       "[[[]],\n",
       " [[]],\n",
       " [[]],\n",
       " [[]],\n",
       " [[(0, 50)]],\n",
       " [['Bob Ross lived in Florida, Elon Musk founded Tesla']],\n",
       " [[]]]"
      ]
     },
     "execution_count": 16,
     "metadata": {},
     "output_type": "execute_result"
    }
   ],
   "source": [
    "from deeppavlov import configs, build_model\n",
    "\n",
    "ed = build_model(configs.entity_extraction.entity_detection_en, download=True)\n",
    "ed(['Bob Ross lived in Florida, Elon Musk founded Tesla'])"
   ]
  },
  {
   "cell_type": "code",
   "execution_count": null,
   "id": "0d9d88bd",
   "metadata": {},
   "outputs": [],
   "source": []
  }
 ],
 "metadata": {
  "kernelspec": {
   "display_name": "Python 3 (ipykernel)",
   "language": "python",
   "name": "python3"
  },
  "language_info": {
   "codemirror_mode": {
    "name": "ipython",
    "version": 3
   },
   "file_extension": ".py",
   "mimetype": "text/x-python",
   "name": "python",
   "nbconvert_exporter": "python",
   "pygments_lexer": "ipython3",
   "version": "3.9.13"
  }
 },
 "nbformat": 4,
 "nbformat_minor": 5
}
